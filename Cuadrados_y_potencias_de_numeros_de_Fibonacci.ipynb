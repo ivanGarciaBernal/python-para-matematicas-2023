{
  "nbformat": 4,
  "nbformat_minor": 0,
  "metadata": {
    "colab": {
      "provenance": [],
      "authorship_tag": "ABX9TyNc8rytlxImQMiG2pt88THM",
      "include_colab_link": true
    },
    "kernelspec": {
      "name": "python3",
      "display_name": "Python 3"
    },
    "language_info": {
      "name": "python"
    }
  },
  "cells": [
    {
      "cell_type": "markdown",
      "metadata": {
        "id": "view-in-github",
        "colab_type": "text"
      },
      "source": [
        "<a href=\"https://colab.research.google.com/github/ivanGarciaBernal/python-para-matematicas-2023/blob/main/Cuadrados_y_potencias_de_numeros_de_Fibonacci.ipynb\" target=\"_parent\"><img src=\"https://colab.research.google.com/assets/colab-badge.svg\" alt=\"Open In Colab\"/></a>"
      ]
    },
    {
      "cell_type": "markdown",
      "source": [
        "Los numeros de Fibonacci menores que $10^{20}$ que son cuadrados son"
      ],
      "metadata": {
        "id": "mfA1H6EUJY28"
      }
    },
    {
      "cell_type": "code",
      "source": [
        "from sympy import sqrt\n",
        "\n",
        "def es_potencia(k,n):\n",
        "    return int(k**(1/n)) ** n == k\n",
        "\n",
        "def potencia_fibonacci(n, pot=2):\n",
        "    fibs = []\n",
        "    a, b = 0, 1\n",
        "    while a < n:\n",
        "        if es_potencia(a,pot):\n",
        "            fibs.append(a)\n",
        "        a, b = b, a+b\n",
        "    return fibs\n",
        "\n",
        "print(potencia_fibonacci(10**20,2))"
      ],
      "metadata": {
        "colab": {
          "base_uri": "https://localhost:8080/"
        },
        "id": "gAfQfJxnaWZl",
        "outputId": "bb923944-ec78-4518-b653-496690aed97c"
      },
      "execution_count": 1,
      "outputs": [
        {
          "output_type": "stream",
          "name": "stdout",
          "text": [
            "[0, 1, 1, 144]\n"
          ]
        }
      ]
    },
    {
      "cell_type": "markdown",
      "source": [
        "Los numeros de Fibonacci menores que $10^{20}$ que son cubos perfectos son"
      ],
      "metadata": {
        "id": "G4pxJVn7J32S"
      }
    },
    {
      "cell_type": "code",
      "source": [
        "potencia_fibonacci(10**20,3)"
      ],
      "metadata": {
        "colab": {
          "base_uri": "https://localhost:8080/"
        },
        "id": "X0MD-wGJJ8GF",
        "outputId": "0bb97180-9599-4c7d-9bf3-f3d3d7178361"
      },
      "execution_count": 2,
      "outputs": [
        {
          "output_type": "execute_result",
          "data": {
            "text/plain": [
              "[0, 1, 1, 8]"
            ]
          },
          "metadata": {},
          "execution_count": 2
        }
      ]
    },
    {
      "cell_type": "markdown",
      "source": [
        "Estos patrones denotan que si existe tal numero distinto al anterior, que sea un cuadrado perfocto, entonces este es muy grando o sugiere la no existencia de este.\n",
        "\n",
        "Esta conjetura fue probada ya en un articulo\n",
        "*Classical and modular approaches to exponential Diophantine equations I. Fibonacci and Lucas perfect powers*\n",
        "https://doi.org/10.4007/annals.2006.163.969\n",
        "Donde se muestra que los unicos numeros de Fibonacci que son cuadrados perfectos son 0,1,1,144"
      ],
      "metadata": {
        "id": "gUWZ11W2KVqk"
      }
    }
  ]
}